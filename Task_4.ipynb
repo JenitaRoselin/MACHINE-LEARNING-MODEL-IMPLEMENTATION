{
  "nbformat": 4,
  "nbformat_minor": 0,
  "metadata": {
    "colab": {
      "provenance": [],
      "authorship_tag": "ABX9TyMbTECVPghfYTskdDw9hBZ5",
      "include_colab_link": true
    },
    "kernelspec": {
      "name": "python3",
      "display_name": "Python 3"
    },
    "language_info": {
      "name": "python"
    }
  },
  "cells": [
    {
      "cell_type": "markdown",
      "metadata": {
        "id": "view-in-github",
        "colab_type": "text"
      },
      "source": [
        "<a href=\"https://colab.research.google.com/github/JenitaRoselin/MACHINE-LEARNING-MODEL-IMPLEMENTATION/blob/main/Task_4.ipynb\" target=\"_parent\"><img src=\"https://colab.research.google.com/assets/colab-badge.svg\" alt=\"Open In Colab\"/></a>"
      ]
    },
    {
      "cell_type": "markdown",
      "source": [
        "Task-4: Email spam detection using scikit"
      ],
      "metadata": {
        "id": "yXq-awTlSWw-"
      }
    },
    {
      "cell_type": "markdown",
      "source": [
        "Necessary modules"
      ],
      "metadata": {
        "id": "tZTmwfK6XUaH"
      }
    },
    {
      "cell_type": "code",
      "source": [
        "import numpy as np\n",
        "import pandas as pd\n",
        "from sklearn.model_selection import train_test_split\n",
        "from sklearn.linear_model import LogisticRegression\n",
        "from sklearn.metrics import accuracy_score\n",
        "from sklearn.feature_extraction.text import TfidfVectorizer\n"
      ],
      "metadata": {
        "id": "L9MvsAY0e-x9"
      },
      "execution_count": 2,
      "outputs": []
    },
    {
      "cell_type": "markdown",
      "source": [
        "Downloading the data set from kaggle"
      ],
      "metadata": {
        "id": "fI4lJnFibjyX"
      }
    },
    {
      "cell_type": "code",
      "execution_count": 3,
      "metadata": {
        "colab": {
          "base_uri": "https://localhost:8080/"
        },
        "id": "ZYZdDXxGOXwt",
        "outputId": "a309dd44-4270-4ff7-c8e9-1844b6a26a51"
      },
      "outputs": [
        {
          "output_type": "stream",
          "name": "stdout",
          "text": [
            "Downloading from https://www.kaggle.com/api/v1/datasets/download/venky73/spam-mails-dataset?dataset_version_number=1...\n"
          ]
        },
        {
          "output_type": "stream",
          "name": "stderr",
          "text": [
            "100%|██████████| 1.86M/1.86M [00:00<00:00, 73.8MB/s]"
          ]
        },
        {
          "output_type": "stream",
          "name": "stdout",
          "text": [
            "Extracting files...\n"
          ]
        },
        {
          "output_type": "stream",
          "name": "stderr",
          "text": [
            "\n"
          ]
        }
      ],
      "source": [
        "import kagglehub\n",
        "import os\n",
        "\n",
        "# Download latest version\n",
        "path = kagglehub.dataset_download(\"venky73/spam-mails-dataset\")\n",
        "\n",
        "#storing the path to the csv file\n",
        "file_path = os.path.join(path,'spam_ham_dataset.csv')"
      ]
    },
    {
      "cell_type": "markdown",
      "source": [
        "Program:"
      ],
      "metadata": {
        "id": "4B_JSjn8XXnR"
      }
    },
    {
      "cell_type": "code",
      "source": [
        "#Loading data to a dataframe\n",
        "raw_data = pd.read_csv(file_path)\n",
        "\n",
        "#replacing null values with a null string\n",
        "data = raw_data.where((pd.notnull(raw_data)),'')\n",
        "\n",
        "#changing label_num values for better understanding\n",
        "#spam=0\n",
        "#ham=1\n",
        "data.loc[data['label_num']==0,'label_num'] = 9\n",
        "data.loc[data['label_num']==1,'label_num'] = 0\n",
        "data.loc[data['label_num']==9,'label_num'] = 1\n",
        "\n",
        "#separating data as texts(X) and labels(Y)\n",
        "X = data['text']\n",
        "Y = data['label_num']\n",
        "\n",
        "\n",
        "#Train test split-\n",
        "# Splitting X and Y into training and testing data\n",
        "X_train,X_test,Y_train,Y_test = train_test_split(X,Y,test_size=0.2,random_state=3)\n",
        "\n",
        "#Feature Extraction-\n",
        "#converting text into numeric values\n",
        "feature_extraction = TfidfVectorizer(min_df=1,stop_words='english',lowercase=True)\n",
        "X_train_features = feature_extraction.fit_transform(X_train)\n",
        "X_test_features = feature_extraction.transform(X_test)\n",
        "\n",
        "\n",
        "#Logistic Regression-\n",
        "#training the model with training data\n",
        "model=LogisticRegression()\n",
        "model.fit(X_train_features,Y_train)\n",
        "\n",
        "#Evaluating the trained model\n",
        "#predicting trained data\n",
        "prediction_train = model.predict(X_train_features)\n",
        "accuracy_train = accuracy_score(Y_train,prediction_train)\n",
        "#prediction testing data\n",
        "prediction_test = model.predict(X_test_features)\n",
        "accuracy_test = accuracy_score(Y_test,prediction_test)\n",
        "\n",
        "#predictive system\n",
        "#this one inputs a mail and predicts if it's a spam mail or not\n",
        "email = input(\"Enter your mail:\\n\")\n",
        "input_email = [email]\n",
        "\n",
        "#convert text to numerical format\n",
        "input_email_features = feature_extraction.transform(input_email)\n",
        "\n",
        "#make the prediction and display if it's a ham or spam\n",
        "prediction_input =model.predict(input_email_features)\n",
        "\n",
        "\n",
        "if(prediction_input[0]==1):\n",
        "  print('Ham mail')\n",
        "else:\n",
        "  print('Spam mail')\n"
      ],
      "metadata": {
        "colab": {
          "base_uri": "https://localhost:8080/"
        },
        "collapsed": true,
        "id": "syZe8w5naQ2M",
        "outputId": "b9f5a2d1-5509-4e92-a55a-26312258dc76"
      },
      "execution_count": 4,
      "outputs": [
        {
          "output_type": "stream",
          "name": "stdout",
          "text": [
            "Enter your mail:\n",
            "Subject: Acceptance Letter. Dear Mr. H. Potter, We are pleased to inform you that you have been accepted at Hogwarts School of Witchcraft and Wizardry. Term starts at Sept. 1st. Kindly find attached the list of books you'll be required to bring with you. Best wishes, Deputy Headmistress, McGonagall\n",
            "Spam mail\n"
          ]
        }
      ]
    }
  ]
}